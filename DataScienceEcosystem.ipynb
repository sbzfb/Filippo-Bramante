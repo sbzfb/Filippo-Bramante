{
 "cells": [
  {
   "cell_type": "markdown",
   "id": "294811cb-8546-4d0a-9862-5a26797f58f1",
   "metadata": {},
   "source": [
    "# Data Science Tools and Ecosystems"
   ]
  },
  {
   "cell_type": "markdown",
   "id": "b8483bc8-1983-49d0-b3cd-0e6b6f32bc40",
   "metadata": {},
   "source": [
    "In this notebook, Data Science Tools and Ecosystem are summarized."
   ]
  },
  {
   "cell_type": "markdown",
   "id": "514ff99f-9203-4854-a609-4764471acbfc",
   "metadata": {},
   "source": [
    "**Objectives:**\n",
    "- List popular languages for Data Science\n",
    "- List popular libraries for Data Science\n",
    "- List Data Science tools\n",
    "- Introduce simple arithmetic expressions"
   ]
  },
  {
   "cell_type": "markdown",
   "id": "16e0e070-a9f6-4d6a-828b-97c628d26fd4",
   "metadata": {},
   "source": [
    "Some of the popular languages that Data Scientists use are:\n",
    "1) Python\n",
    "2) SQL\n",
    "3) R\n",
    "4) Java"
   ]
  },
  {
   "cell_type": "markdown",
   "id": "1d1564a8-d4d2-442e-8324-bb508c5bc6fa",
   "metadata": {},
   "source": [
    "Some of the commonly used libraries used by Data Scientists include:\n",
    "1) NumPy\n",
    "2) Matplotlib\n",
    "3) Pandas\n",
    "4) SciPy..."
   ]
  },
  {
   "cell_type": "markdown",
   "id": "5651001b-c0ff-457a-8405-a9624dcd64bf",
   "metadata": {},
   "source": [
    "|Data Science Tools|\n",
    "----\n",
    "|Jupyter Notebook|\n",
    "|RStudio|\n",
    "|Spyder|"
   ]
  },
  {
   "cell_type": "markdown",
   "id": "82e96580-5c17-48e6-ae29-3103945c3d71",
   "metadata": {},
   "source": [
    "### Below are a few examples of evaluating arithmetic expressions in Python"
   ]
  },
  {
   "cell_type": "code",
   "execution_count": 2,
   "id": "9136eaa7-99ab-4473-a898-975f0c038805",
   "metadata": {},
   "outputs": [
    {
     "data": {
      "text/plain": [
       "17"
      ]
     },
     "execution_count": 2,
     "metadata": {},
     "output_type": "execute_result"
    }
   ],
   "source": [
    "(3*4)+5 # This a simple arithmetic expression to mutiply then add integers"
   ]
  },
  {
   "cell_type": "code",
   "execution_count": 4,
   "id": "b9c78095-0e62-475d-a90e-036fe4b62207",
   "metadata": {},
   "outputs": [
    {
     "data": {
      "text/plain": [
       "33.333333333333336"
      ]
     },
     "execution_count": 4,
     "metadata": {},
     "output_type": "execute_result"
    }
   ],
   "source": [
    "200/6 # This will convert 200 minutes to hours by diving by 60"
   ]
  },
  {
   "cell_type": "markdown",
   "id": "e83eae15-d6ba-426a-86d2-df69cde80a43",
   "metadata": {},
   "source": [
    "## Author\n",
    "Filippo Bramante"
   ]
  },
  {
   "cell_type": "code",
   "execution_count": null,
   "id": "d1948d7c-61fd-4264-b36c-7b99eae1e1e3",
   "metadata": {},
   "outputs": [],
   "source": []
  }
 ],
 "metadata": {
  "kernelspec": {
   "display_name": "Python 3 (ipykernel)",
   "language": "python",
   "name": "python3"
  },
  "language_info": {
   "codemirror_mode": {
    "name": "ipython",
    "version": 3
   },
   "file_extension": ".py",
   "mimetype": "text/x-python",
   "name": "python",
   "nbconvert_exporter": "python",
   "pygments_lexer": "ipython3",
   "version": "3.12.4"
  }
 },
 "nbformat": 4,
 "nbformat_minor": 5
}
